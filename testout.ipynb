{
 "cells": [
  {
   "cell_type": "code",
   "execution_count": null,
   "id": "bc27d2e2",
   "metadata": {},
   "outputs": [],
   "source": [
    "!python scripts/uav_finetune.py --data_path ./demo_data/uav.Landing --output_dir ./checkpoints/uav_quadcopter --freeze_backbone --freeze_language_model --only_train_action_head --batch_size 4 --learning_rate 1e-4 --num_epochs 10"
   ]
  }
 ],
 "metadata": {
  "language_info": {
   "name": "python"
  }
 },
 "nbformat": 4,
 "nbformat_minor": 5
}
