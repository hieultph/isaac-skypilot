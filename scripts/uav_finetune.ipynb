{
 "cells": [
  {
   "cell_type": "markdown",
   "id": "a171d757",
   "metadata": {},
   "source": [
    "# UAV Quadcopter Fine-tuning with GR00T\n",
    "\n",
    "This notebook demonstrates how to fine-tune the GR00T VLA model for UAV quadcopter control. The key approach is to leverage the pretrained VLM and only retrain the diffusion action head.\n",
    "\n",
    "## UAV Control Overview\n",
    "\n",
    "**State Space (13D):**\n",
    "- position: x, y, z (3)\n",
    "- orientation: roll, pitch, yaw (3)  \n",
    "- velocity: vx, vy, vz (3)\n",
    "- battery: battery level (1)\n",
    "- gps: lat, lon, alt (3)\n",
    "\n",
    "**Action Space (9D):**\n",
    "- flight_control: throttle, roll, pitch, yaw (4)\n",
    "- velocity_command: vx, vy, vz (3)\n",
    "- gimbal: gimbal_pitch, gimbal_yaw (2)\n",
    "\n",
    "**Key Insight:** Leveraging pretrained VLM and only adapting action generation for UAV control."
   ]
  },
  {
   "cell_type": "markdown",
   "id": "9941ac24",
   "metadata": {},
   "source": [
    "## 1. Configuration Constants\n",
    "\n",
    "Define all configuration parameters as constants for easy modification:"
   ]
  },
  {
   "cell_type": "code",
   "execution_count": null,
   "id": "fb88af9f",
   "metadata": {},
   "outputs": [],
   "source": [
    "# ============================================================================\n",
    "# CONFIGURATION CONSTANTS - Modify these parameters as needed\n",
    "# ============================================================================\n",
    "\n",
    "# Data arguments\n",
    "DATA_PATH = \"./demo_data/uav.Landing\"  # Path to UAV dataset in LeRobot format\n",
    "OUTPUT_DIR = \"./checkpoints/uav_quadcopter_finetune\"  # Output directory for checkpoints\n",
    "\n",
    "# Model arguments  \n",
    "MODEL_PATH = \"nvidia/GR00T-N1.5-3B\"  # Path to pretrained GR00T model\n",
    "EMBODIMENT_TAG = \"uav_quadcopter\"  # Embodiment tag for UAV\n",
    "\n",
    "# Training arguments\n",
    "BATCH_SIZE = 4  # Training batch size\n",
    "LEARNING_RATE = 1e-4  # Learning rate\n",
    "NUM_EPOCHS = 50  # Number of training epochs\n",
    "DEVICE = \"cuda\"  # Training device\n",
    "\n",
    "# Freezing arguments - key for UAV adaptation\n",
    "FREEZE_BACKBONE = True  # Freeze VLM visual encoder (recommended for UAV)\n",
    "FREEZE_LANGUAGE_MODEL = True  # Freeze language model (recommended for UAV)\n",
    "ONLY_TRAIN_ACTION_HEAD = True  # Only train UAV-specific action head (recommended)\n",
    "\n",
    "# Data compatibility arguments\n",
    "NO_LANGUAGE = False  # Use dataset configuration without language annotations\n",
    "\n",
    "# Advanced training settings\n",
    "LOGGING_STEPS = 100\n",
    "SAVE_STEPS = 1000\n",
    "SAVE_TOTAL_LIMIT = 3\n",
    "WARMUP_RATIO = 0.05\n",
    "SEED = 42\n",
    "\n",
    "print(\"Configuration loaded successfully!\")\n",
    "print(f\"Data path: {DATA_PATH}\")\n",
    "print(f\"Output directory: {OUTPUT_DIR}\")\n",
    "print(f\"Model: {MODEL_PATH}\")\n",
    "print(f\"Batch size: {BATCH_SIZE}, Learning rate: {LEARNING_RATE}, Epochs: {NUM_EPOCHS}\")\n",
    "print(f\"Freeze backbone: {FREEZE_BACKBONE}, Freeze LM: {FREEZE_LANGUAGE_MODEL}\")\n",
    "print(f\"Only train action head: {ONLY_TRAIN_ACTION_HEAD}\")\n",
    "print(f\"No language: {NO_LANGUAGE}\")"
   ]
  },
  {
   "cell_type": "markdown",
   "id": "871746ff",
   "metadata": {},
   "source": [
    "## 2. Import Required Libraries\n",
    "\n",
    "Import all necessary libraries for UAV fine-tuning:"
   ]
  }
 ],
 "metadata": {
  "language_info": {
   "name": "python"
  }
 },
 "nbformat": 4,
 "nbformat_minor": 5
}
