{
 "cells": [
  {
   "cell_type": "code",
   "execution_count": null,
   "id": "619d29fc",
   "metadata": {},
   "outputs": [
    {
     "ename": "",
     "evalue": "",
     "output_type": "error",
     "traceback": [
      "\u001b[1;31mFailed to start the Kernel. \n",
      "\u001b[1;31mThe kernel died. Error: ... View Jupyter <a href='command:jupyter.viewOutput'>log</a> for further details."
     ]
    }
   ],
   "source": [
    "import requests\n",
    "import numpy as np\n",
    "import json_numpy\n",
    "json_numpy.patch()\n",
    "\n",
    "# Example client code for other PCs\n",
    "obs = {\n",
    "    \"video.front_camera\": np.random.randint(0, 256, (1, 720, 1280, 3), dtype=np.uint8),\n",
    "    \"state.position\": np.random.rand(1, 3),\n",
    "    \"state.orientation\": np.random.rand(1, 4),\n",
    "    \"state.velocity\": np.random.rand(1, 3),\n",
    "    \"state.gimbal\": np.random.rand(1, 3),\n",
    "    \"annotation.human.task_description\": [\"do your thing!\"]\n",
    "}\n",
    "\n",
    "response = requests.post(\"http://159.223.171.199:40678/acti\", json={\"observation\": obs})\n",
    "action = response.json()"
   ]
  }
 ],
 "metadata": {
  "kernelspec": {
   "display_name": "gr00t",
   "language": "python",
   "name": "python3"
  },
  "language_info": {
   "name": "python",
   "version": "3.10.18"
  }
 },
 "nbformat": 4,
 "nbformat_minor": 5
}
